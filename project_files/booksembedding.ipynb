{
 "cells": [
  {
   "cell_type": "code",
   "execution_count": 5,
   "metadata": {},
   "outputs": [
    {
     "name": "stdout",
     "output_type": "stream",
     "text": [
      "Requirement already satisfied: pandas in /Users/oreoluwaala/Downloads/Thesis/.venv/lib/python3.12/site-packages (2.2.3)\n",
      "Requirement already satisfied: numpy>=1.26.0 in /Users/oreoluwaala/Downloads/Thesis/.venv/lib/python3.12/site-packages (from pandas) (2.2.2)\n",
      "Requirement already satisfied: python-dateutil>=2.8.2 in /Users/oreoluwaala/Downloads/Thesis/.venv/lib/python3.12/site-packages (from pandas) (2.9.0.post0)\n",
      "Requirement already satisfied: pytz>=2020.1 in /Users/oreoluwaala/Downloads/Thesis/.venv/lib/python3.12/site-packages (from pandas) (2025.1)\n",
      "Requirement already satisfied: tzdata>=2022.7 in /Users/oreoluwaala/Downloads/Thesis/.venv/lib/python3.12/site-packages (from pandas) (2025.1)\n",
      "Requirement already satisfied: six>=1.5 in /Users/oreoluwaala/Downloads/Thesis/.venv/lib/python3.12/site-packages (from python-dateutil>=2.8.2->pandas) (1.17.0)\n",
      "\n",
      "\u001b[1m[\u001b[0m\u001b[34;49mnotice\u001b[0m\u001b[1;39;49m]\u001b[0m\u001b[39;49m A new release of pip is available: \u001b[0m\u001b[31;49m24.3.1\u001b[0m\u001b[39;49m -> \u001b[0m\u001b[32;49m25.0.1\u001b[0m\n",
      "\u001b[1m[\u001b[0m\u001b[34;49mnotice\u001b[0m\u001b[1;39;49m]\u001b[0m\u001b[39;49m To update, run: \u001b[0m\u001b[32;49mpip install --upgrade pip\u001b[0m\n",
      "Note: you may need to restart the kernel to use updated packages.\n"
     ]
    }
   ],
   "source": [
    "pip install pandas"
   ]
  },
  {
   "cell_type": "code",
   "execution_count": 6,
   "metadata": {},
   "outputs": [
    {
     "name": "stdout",
     "output_type": "stream",
     "text": [
      "Requirement already satisfied: matplotlib in /Users/oreoluwaala/Downloads/Thesis/.venv/lib/python3.12/site-packages (3.10.0)\n",
      "Requirement already satisfied: contourpy>=1.0.1 in /Users/oreoluwaala/Downloads/Thesis/.venv/lib/python3.12/site-packages (from matplotlib) (1.3.1)\n",
      "Requirement already satisfied: cycler>=0.10 in /Users/oreoluwaala/Downloads/Thesis/.venv/lib/python3.12/site-packages (from matplotlib) (0.12.1)\n",
      "Requirement already satisfied: fonttools>=4.22.0 in /Users/oreoluwaala/Downloads/Thesis/.venv/lib/python3.12/site-packages (from matplotlib) (4.55.8)\n",
      "Requirement already satisfied: kiwisolver>=1.3.1 in /Users/oreoluwaala/Downloads/Thesis/.venv/lib/python3.12/site-packages (from matplotlib) (1.4.8)\n",
      "Requirement already satisfied: numpy>=1.23 in /Users/oreoluwaala/Downloads/Thesis/.venv/lib/python3.12/site-packages (from matplotlib) (2.2.2)\n",
      "Requirement already satisfied: packaging>=20.0 in /Users/oreoluwaala/Downloads/Thesis/.venv/lib/python3.12/site-packages (from matplotlib) (24.2)\n",
      "Requirement already satisfied: pillow>=8 in /Users/oreoluwaala/Downloads/Thesis/.venv/lib/python3.12/site-packages (from matplotlib) (11.1.0)\n",
      "Requirement already satisfied: pyparsing>=2.3.1 in /Users/oreoluwaala/Downloads/Thesis/.venv/lib/python3.12/site-packages (from matplotlib) (3.2.1)\n",
      "Requirement already satisfied: python-dateutil>=2.7 in /Users/oreoluwaala/Downloads/Thesis/.venv/lib/python3.12/site-packages (from matplotlib) (2.9.0.post0)\n",
      "Requirement already satisfied: six>=1.5 in /Users/oreoluwaala/Downloads/Thesis/.venv/lib/python3.12/site-packages (from python-dateutil>=2.7->matplotlib) (1.17.0)\n",
      "\n",
      "\u001b[1m[\u001b[0m\u001b[34;49mnotice\u001b[0m\u001b[1;39;49m]\u001b[0m\u001b[39;49m A new release of pip is available: \u001b[0m\u001b[31;49m24.3.1\u001b[0m\u001b[39;49m -> \u001b[0m\u001b[32;49m25.0.1\u001b[0m\n",
      "\u001b[1m[\u001b[0m\u001b[34;49mnotice\u001b[0m\u001b[1;39;49m]\u001b[0m\u001b[39;49m To update, run: \u001b[0m\u001b[32;49mpip install --upgrade pip\u001b[0m\n",
      "Note: you may need to restart the kernel to use updated packages.\n"
     ]
    }
   ],
   "source": [
    "pip install matplotlib"
   ]
  },
  {
   "cell_type": "code",
   "execution_count": 7,
   "metadata": {},
   "outputs": [
    {
     "name": "stdout",
     "output_type": "stream",
     "text": [
      "Requirement already satisfied: scikit-learn in /Users/oreoluwaala/Downloads/Thesis/.venv/lib/python3.12/site-packages (1.6.1)\n",
      "Requirement already satisfied: numpy>=1.19.5 in /Users/oreoluwaala/Downloads/Thesis/.venv/lib/python3.12/site-packages (from scikit-learn) (2.2.2)\n",
      "Requirement already satisfied: scipy>=1.6.0 in /Users/oreoluwaala/Downloads/Thesis/.venv/lib/python3.12/site-packages (from scikit-learn) (1.15.1)\n",
      "Requirement already satisfied: joblib>=1.2.0 in /Users/oreoluwaala/Downloads/Thesis/.venv/lib/python3.12/site-packages (from scikit-learn) (1.4.2)\n",
      "Requirement already satisfied: threadpoolctl>=3.1.0 in /Users/oreoluwaala/Downloads/Thesis/.venv/lib/python3.12/site-packages (from scikit-learn) (3.5.0)\n",
      "\n",
      "\u001b[1m[\u001b[0m\u001b[34;49mnotice\u001b[0m\u001b[1;39;49m]\u001b[0m\u001b[39;49m A new release of pip is available: \u001b[0m\u001b[31;49m24.3.1\u001b[0m\u001b[39;49m -> \u001b[0m\u001b[32;49m25.0.1\u001b[0m\n",
      "\u001b[1m[\u001b[0m\u001b[34;49mnotice\u001b[0m\u001b[1;39;49m]\u001b[0m\u001b[39;49m To update, run: \u001b[0m\u001b[32;49mpip install --upgrade pip\u001b[0m\n",
      "Note: you may need to restart the kernel to use updated packages.\n"
     ]
    }
   ],
   "source": [
    "pip install scikit-learn"
   ]
  },
  {
   "cell_type": "code",
   "execution_count": 8,
   "metadata": {},
   "outputs": [
    {
     "name": "stdout",
     "output_type": "stream",
     "text": [
      "Requirement already satisfied: sentence-transformers in /Users/oreoluwaala/Downloads/Thesis/.venv/lib/python3.12/site-packages (4.0.1)\n",
      "Requirement already satisfied: transformers<5.0.0,>=4.41.0 in /Users/oreoluwaala/Downloads/Thesis/.venv/lib/python3.12/site-packages (from sentence-transformers) (4.48.2)\n",
      "Requirement already satisfied: tqdm in /Users/oreoluwaala/Downloads/Thesis/.venv/lib/python3.12/site-packages (from sentence-transformers) (4.67.1)\n",
      "Requirement already satisfied: torch>=1.11.0 in /Users/oreoluwaala/Downloads/Thesis/.venv/lib/python3.12/site-packages (from sentence-transformers) (2.6.0)\n",
      "Requirement already satisfied: scikit-learn in /Users/oreoluwaala/Downloads/Thesis/.venv/lib/python3.12/site-packages (from sentence-transformers) (1.6.1)\n",
      "Requirement already satisfied: scipy in /Users/oreoluwaala/Downloads/Thesis/.venv/lib/python3.12/site-packages (from sentence-transformers) (1.15.1)\n",
      "Requirement already satisfied: huggingface-hub>=0.20.0 in /Users/oreoluwaala/Downloads/Thesis/.venv/lib/python3.12/site-packages (from sentence-transformers) (0.28.1)\n",
      "Requirement already satisfied: Pillow in /Users/oreoluwaala/Downloads/Thesis/.venv/lib/python3.12/site-packages (from sentence-transformers) (11.1.0)\n",
      "Requirement already satisfied: typing_extensions>=4.5.0 in /Users/oreoluwaala/Downloads/Thesis/.venv/lib/python3.12/site-packages (from sentence-transformers) (4.12.2)\n",
      "Requirement already satisfied: filelock in /Users/oreoluwaala/Downloads/Thesis/.venv/lib/python3.12/site-packages (from huggingface-hub>=0.20.0->sentence-transformers) (3.17.0)\n",
      "Requirement already satisfied: fsspec>=2023.5.0 in /Users/oreoluwaala/Downloads/Thesis/.venv/lib/python3.12/site-packages (from huggingface-hub>=0.20.0->sentence-transformers) (2025.2.0)\n",
      "Requirement already satisfied: packaging>=20.9 in /Users/oreoluwaala/Downloads/Thesis/.venv/lib/python3.12/site-packages (from huggingface-hub>=0.20.0->sentence-transformers) (24.2)\n",
      "Requirement already satisfied: pyyaml>=5.1 in /Users/oreoluwaala/Downloads/Thesis/.venv/lib/python3.12/site-packages (from huggingface-hub>=0.20.0->sentence-transformers) (6.0.2)\n",
      "Requirement already satisfied: requests in /Users/oreoluwaala/Downloads/Thesis/.venv/lib/python3.12/site-packages (from huggingface-hub>=0.20.0->sentence-transformers) (2.32.3)\n",
      "Requirement already satisfied: networkx in /Users/oreoluwaala/Downloads/Thesis/.venv/lib/python3.12/site-packages (from torch>=1.11.0->sentence-transformers) (3.4.2)\n",
      "Requirement already satisfied: jinja2 in /Users/oreoluwaala/Downloads/Thesis/.venv/lib/python3.12/site-packages (from torch>=1.11.0->sentence-transformers) (3.1.5)\n",
      "Requirement already satisfied: setuptools in /Users/oreoluwaala/Downloads/Thesis/.venv/lib/python3.12/site-packages (from torch>=1.11.0->sentence-transformers) (75.8.0)\n",
      "Requirement already satisfied: sympy==1.13.1 in /Users/oreoluwaala/Downloads/Thesis/.venv/lib/python3.12/site-packages (from torch>=1.11.0->sentence-transformers) (1.13.1)\n",
      "Requirement already satisfied: mpmath<1.4,>=1.1.0 in /Users/oreoluwaala/Downloads/Thesis/.venv/lib/python3.12/site-packages (from sympy==1.13.1->torch>=1.11.0->sentence-transformers) (1.3.0)\n",
      "Requirement already satisfied: numpy>=1.17 in /Users/oreoluwaala/Downloads/Thesis/.venv/lib/python3.12/site-packages (from transformers<5.0.0,>=4.41.0->sentence-transformers) (2.2.2)\n",
      "Requirement already satisfied: regex!=2019.12.17 in /Users/oreoluwaala/Downloads/Thesis/.venv/lib/python3.12/site-packages (from transformers<5.0.0,>=4.41.0->sentence-transformers) (2024.11.6)\n",
      "Requirement already satisfied: tokenizers<0.22,>=0.21 in /Users/oreoluwaala/Downloads/Thesis/.venv/lib/python3.12/site-packages (from transformers<5.0.0,>=4.41.0->sentence-transformers) (0.21.0)\n",
      "Requirement already satisfied: safetensors>=0.4.1 in /Users/oreoluwaala/Downloads/Thesis/.venv/lib/python3.12/site-packages (from transformers<5.0.0,>=4.41.0->sentence-transformers) (0.5.2)\n",
      "Requirement already satisfied: joblib>=1.2.0 in /Users/oreoluwaala/Downloads/Thesis/.venv/lib/python3.12/site-packages (from scikit-learn->sentence-transformers) (1.4.2)\n",
      "Requirement already satisfied: threadpoolctl>=3.1.0 in /Users/oreoluwaala/Downloads/Thesis/.venv/lib/python3.12/site-packages (from scikit-learn->sentence-transformers) (3.5.0)\n",
      "Requirement already satisfied: MarkupSafe>=2.0 in /Users/oreoluwaala/Downloads/Thesis/.venv/lib/python3.12/site-packages (from jinja2->torch>=1.11.0->sentence-transformers) (3.0.2)\n",
      "Requirement already satisfied: charset-normalizer<4,>=2 in /Users/oreoluwaala/Downloads/Thesis/.venv/lib/python3.12/site-packages (from requests->huggingface-hub>=0.20.0->sentence-transformers) (3.4.1)\n",
      "Requirement already satisfied: idna<4,>=2.5 in /Users/oreoluwaala/Downloads/Thesis/.venv/lib/python3.12/site-packages (from requests->huggingface-hub>=0.20.0->sentence-transformers) (3.10)\n",
      "Requirement already satisfied: urllib3<3,>=1.21.1 in /Users/oreoluwaala/Downloads/Thesis/.venv/lib/python3.12/site-packages (from requests->huggingface-hub>=0.20.0->sentence-transformers) (2.3.0)\n",
      "Requirement already satisfied: certifi>=2017.4.17 in /Users/oreoluwaala/Downloads/Thesis/.venv/lib/python3.12/site-packages (from requests->huggingface-hub>=0.20.0->sentence-transformers) (2025.1.31)\n",
      "\n",
      "\u001b[1m[\u001b[0m\u001b[34;49mnotice\u001b[0m\u001b[1;39;49m]\u001b[0m\u001b[39;49m A new release of pip is available: \u001b[0m\u001b[31;49m24.3.1\u001b[0m\u001b[39;49m -> \u001b[0m\u001b[32;49m25.0.1\u001b[0m\n",
      "\u001b[1m[\u001b[0m\u001b[34;49mnotice\u001b[0m\u001b[1;39;49m]\u001b[0m\u001b[39;49m To update, run: \u001b[0m\u001b[32;49mpip install --upgrade pip\u001b[0m\n",
      "Note: you may need to restart the kernel to use updated packages.\n"
     ]
    }
   ],
   "source": [
    "pip install -U sentence-transformers"
   ]
  },
  {
   "cell_type": "code",
   "execution_count": 9,
   "metadata": {},
   "outputs": [],
   "source": [
    "import pandas as pd\n",
    "import matplotlib as mpl\n",
    "import matplotlib.pyplot as plt\n",
    "import numpy as np\n",
    "import array \n",
    "import sklearn\n",
    "from sklearn.cluster import KMeans\n",
    "from sklearn.metrics.pairwise import cosine_similarity\n",
    "from sentence_transformers import SentenceTransformer as sentran"
   ]
  },
  {
   "cell_type": "code",
   "execution_count": 10,
   "metadata": {},
   "outputs": [],
   "source": [
    "def isbn10_to_isbn13(isbn10):\n",
    "    if len(isbn10) < 10:\n",
    "        isbn10 = isbn10.zfill(10)  # Pad with leading zeros if necessary\n",
    "    \n",
    "    # Add prefix '978' to convert ISBN-10 to ISBN-13\n",
    "    isbn13_prefix = '978' + isbn10[:-1]\n",
    "    \n",
    "    # Calculate the check digit for ISBN-13\n",
    "    check_sum = sum((1 if i % 2 == 0 else 3) * int(digit) for i, digit in enumerate(isbn13_prefix))\n",
    "    check_digit = (10 - (check_sum % 10)) % 10\n",
    "    \n",
    "    return isbn13_prefix + str(check_digit)\n",
    "\n"
   ]
  },
  {
   "cell_type": "code",
   "execution_count": 11,
   "metadata": {},
   "outputs": [],
   "source": [
    "#function to clean up genre information in the data frame\n",
    "def genre_str_to_arr(genre):\n",
    "    genre = genre[2:-2].replace(\"\\'\", \"\")\n",
    "    genre = genre.split(\", \")\n",
    "\n",
    "    return genre"
   ]
  },
  {
   "cell_type": "code",
   "execution_count": 12,
   "metadata": {},
   "outputs": [],
   "source": [
    "#function to find cosine similarity\n",
    "def sim_score_(emb1, emb2):\n",
    "    return np.dot(emb1, emb2)/(np.linalg.norm(emb1)*np.linalg.norm(emb2))\n"
   ]
  },
  {
   "cell_type": "code",
   "execution_count": 13,
   "metadata": {
    "tags": []
   },
   "outputs": [],
   "source": [
    "#books data frame that will be worked with is booksdf\n",
    "books = \"/Users/oreoluwaala/Documents/Book Recommendation Project/rawdata/books.csv\" \n",
    "ratings = \"/Users/oreoluwaala/Documents/Book Recommendation Project/rawdata/ratings.csv\" \n",
    "tbr = \"/Users/oreoluwaala/Documents/Book Recommendation Project/rawdata/to_read.csv\" \n",
    "\n",
    "#fill empty isbn values with integer representation\n",
    "books_dataframe = pd.read_csv(books)\n",
    "books_dataframe['isbn'] = books_dataframe['isbn'].fillna('')\n",
    "\n",
    "#booksdf creation\n",
    "booksdf = books_dataframe.copy()\n",
    "booksdf = booksdf[[\"title\", \"authors\", \"average_rating\", \"book_id\",\"original_publication_year\", \"genres\", \"pages\", \"description\"]]\n",
    "\n",
    "#change year column to basic integer\n",
    "booksdf.loc[:, 'original_publication_year'] = booksdf['original_publication_year'].fillna(-1)\n",
    "booksdf.loc[:, 'original_publication_year'] = booksdf['original_publication_year'].astype(int)\n",
    "\n",
    "#change isbn10 to 13 with the function above\n",
    "\n",
    "booksdf.loc[:, 'isbn13'] = books_dataframe['isbn'].apply(isbn10_to_isbn13)\n",
    "\n",
    "#add isbn13 to the dataframe\n",
    "booksdf = booksdf[[\"title\", \"authors\", \"book_id\",\"isbn13\", \"average_rating\",\"original_publication_year\", \"genres\", \"pages\", \"description\", ]]\n",
    "\n",
    "#change genre to array in dataframe\n",
    "booksdf.loc[:, \"genres\"] = booksdf[\"genres\"].apply(genre_str_to_arr)\n",
    "\n",
    "#ratings dataframe\n",
    "ratingsdf = pd.read_csv(ratings)\n",
    "\n",
    "#to be read dataframe\n",
    "tbrdf = pd.read_csv(tbr)\n"
   ]
  },
  {
   "cell_type": "code",
   "execution_count": 14,
   "metadata": {},
   "outputs": [
    {
     "data": {
      "text/html": [
       "<div>\n",
       "<style scoped>\n",
       "    .dataframe tbody tr th:only-of-type {\n",
       "        vertical-align: middle;\n",
       "    }\n",
       "\n",
       "    .dataframe tbody tr th {\n",
       "        vertical-align: top;\n",
       "    }\n",
       "\n",
       "    .dataframe thead th {\n",
       "        text-align: right;\n",
       "    }\n",
       "</style>\n",
       "<table border=\"1\" class=\"dataframe\">\n",
       "  <thead>\n",
       "    <tr style=\"text-align: right;\">\n",
       "      <th></th>\n",
       "      <th>title</th>\n",
       "      <th>authors</th>\n",
       "      <th>book_id</th>\n",
       "      <th>isbn13</th>\n",
       "      <th>average_rating</th>\n",
       "      <th>original_publication_year</th>\n",
       "      <th>genres</th>\n",
       "      <th>pages</th>\n",
       "      <th>description</th>\n",
       "    </tr>\n",
       "  </thead>\n",
       "  <tbody>\n",
       "    <tr>\n",
       "      <th>0</th>\n",
       "      <td>The Hunger Games (The Hunger Games, #1)</td>\n",
       "      <td>['Suzanne Collins']</td>\n",
       "      <td>1</td>\n",
       "      <td>9780439023481</td>\n",
       "      <td>4.34</td>\n",
       "      <td>2008.0</td>\n",
       "      <td>[young-adult, fiction, fantasy, science-fictio...</td>\n",
       "      <td>374.0</td>\n",
       "      <td>WINNING MEANS FAME AND FORTUNE.LOSING MEANS CE...</td>\n",
       "    </tr>\n",
       "    <tr>\n",
       "      <th>1</th>\n",
       "      <td>Harry Potter and the Sorcerer's Stone (Harry P...</td>\n",
       "      <td>['J.K. Rowling', 'Mary GrandPré']</td>\n",
       "      <td>2</td>\n",
       "      <td>9780439554930</td>\n",
       "      <td>4.44</td>\n",
       "      <td>1997.0</td>\n",
       "      <td>[fantasy, fiction, young-adult, classics]</td>\n",
       "      <td>309.0</td>\n",
       "      <td>Harry Potter's life is miserable. His parents ...</td>\n",
       "    </tr>\n",
       "    <tr>\n",
       "      <th>2</th>\n",
       "      <td>Twilight (Twilight, #1)</td>\n",
       "      <td>['Stephenie Meyer']</td>\n",
       "      <td>3</td>\n",
       "      <td>9780316015844</td>\n",
       "      <td>3.57</td>\n",
       "      <td>2005.0</td>\n",
       "      <td>[young-adult, fantasy, romance, fiction, paran...</td>\n",
       "      <td>501.0</td>\n",
       "      <td>About three things I was absolutely positive.\\...</td>\n",
       "    </tr>\n",
       "    <tr>\n",
       "      <th>3</th>\n",
       "      <td>To Kill a Mockingbird</td>\n",
       "      <td>['Harper Lee']</td>\n",
       "      <td>4</td>\n",
       "      <td>9780061120084</td>\n",
       "      <td>4.25</td>\n",
       "      <td>1960.0</td>\n",
       "      <td>[classics, fiction, historical-fiction, young-...</td>\n",
       "      <td>324.0</td>\n",
       "      <td>The unforgettable novel of a childhood in a sl...</td>\n",
       "    </tr>\n",
       "    <tr>\n",
       "      <th>4</th>\n",
       "      <td>The Great Gatsby</td>\n",
       "      <td>['F. Scott Fitzgerald']</td>\n",
       "      <td>5</td>\n",
       "      <td>9780743273565</td>\n",
       "      <td>3.89</td>\n",
       "      <td>1925.0</td>\n",
       "      <td>[classics, fiction, historical-fiction, romance]</td>\n",
       "      <td>200.0</td>\n",
       "      <td>Alternate Cover Edition ISBN: 0743273567 (ISBN...</td>\n",
       "    </tr>\n",
       "  </tbody>\n",
       "</table>\n",
       "</div>"
      ],
      "text/plain": [
       "                                               title  \\\n",
       "0            The Hunger Games (The Hunger Games, #1)   \n",
       "1  Harry Potter and the Sorcerer's Stone (Harry P...   \n",
       "2                            Twilight (Twilight, #1)   \n",
       "3                              To Kill a Mockingbird   \n",
       "4                                   The Great Gatsby   \n",
       "\n",
       "                             authors  book_id         isbn13  average_rating  \\\n",
       "0                ['Suzanne Collins']        1  9780439023481            4.34   \n",
       "1  ['J.K. Rowling', 'Mary GrandPré']        2  9780439554930            4.44   \n",
       "2                ['Stephenie Meyer']        3  9780316015844            3.57   \n",
       "3                     ['Harper Lee']        4  9780061120084            4.25   \n",
       "4            ['F. Scott Fitzgerald']        5  9780743273565            3.89   \n",
       "\n",
       "   original_publication_year  \\\n",
       "0                     2008.0   \n",
       "1                     1997.0   \n",
       "2                     2005.0   \n",
       "3                     1960.0   \n",
       "4                     1925.0   \n",
       "\n",
       "                                              genres  pages  \\\n",
       "0  [young-adult, fiction, fantasy, science-fictio...  374.0   \n",
       "1          [fantasy, fiction, young-adult, classics]  309.0   \n",
       "2  [young-adult, fantasy, romance, fiction, paran...  501.0   \n",
       "3  [classics, fiction, historical-fiction, young-...  324.0   \n",
       "4   [classics, fiction, historical-fiction, romance]  200.0   \n",
       "\n",
       "                                         description  \n",
       "0  WINNING MEANS FAME AND FORTUNE.LOSING MEANS CE...  \n",
       "1  Harry Potter's life is miserable. His parents ...  \n",
       "2  About three things I was absolutely positive.\\...  \n",
       "3  The unforgettable novel of a childhood in a sl...  \n",
       "4  Alternate Cover Edition ISBN: 0743273567 (ISBN...  "
      ]
     },
     "execution_count": 14,
     "metadata": {},
     "output_type": "execute_result"
    }
   ],
   "source": [
    "#recommendation based on similar books via description\n",
    "#creating booksdataframe\n",
    "books_dataframe = booksdf\n",
    "books_dataframe.head()"
   ]
  },
  {
   "cell_type": "code",
   "execution_count": 15,
   "metadata": {},
   "outputs": [],
   "source": [
    "#load model to generate sentence embeddings\n",
    "sbert_model = sentran('sentence-transformers/all-MiniLM-L6-v2')"
   ]
  },
  {
   "cell_type": "code",
   "execution_count": null,
   "metadata": {},
   "outputs": [
    {
     "name": "stdout",
     "output_type": "stream",
     "text": [
      "10000\n"
     ]
    }
   ],
   "source": [
    "#generate sentence embeddings and keep track of the embedding/book index to isbn ratio\n",
    "\n",
    "# convert descriptions to a list\n",
    "descriptions = books_dataframe[\"description\"].tolist()\n",
    "\n",
    "# define batch size\n",
    "batch_size = 32 \n",
    "\n",
    "# compute embeddings in batches\n",
    "embeddings = []\n",
    "for i in range(0, len(descriptions), batch_size):\n",
    "    batch = descriptions[i:i+batch_size]\n",
    "    batch_embeddings = sbert_model.encode(batch)\n",
    "    embeddings.append(batch_embeddings)\n",
    "\n",
    "# Concatenate all batches into a single array\n",
    "embeddings = np.vstack(embeddings)\n",
    "\n",
    "print(len(embeddings))\n",
    "\n",
    "# embeddings = []\n",
    "# for idx, desc in enumerate(books_dataframe[\"description\"]):\n",
    "#     embeddings.append(sbert_model.encode(desc))"
   ]
  },
  {
   "cell_type": "code",
   "execution_count": 15,
   "metadata": {},
   "outputs": [],
   "source": [
    "#generate genre embedddings\n",
    "genre_emb = {}\n",
    "genre_map = {'art': 0, 'biography': 1, 'books': 2, 'business': 3, 'chick-lit': 4, 'christian': 5, 'classics': 6, 'comics': 7, 'contemporary': 8, 'cookbooks': 9, 'crime': 10, 'fantasy': 11, 'fiction': 12, 'gay-and-lesbian': 13, 'graphic-novels': 14, 'historical-fiction': 15, 'history': 16, 'horror': 17, 'humor-and-comedy': 18, 'manga': 19, 'memoir': 20, 'music': 21, 'mystery': 22, 'nonfiction': 23, 'paranormal': 24, 'philosophy': 25, 'poetry': 26, 'psychology': 27, 'religion': 28, 'romance': 29, 'science': 30, 'science-fiction': 31, 'self-help': 32, 'spirituality': 33, 'sports': 34, 'suspense': 35, 'thriller': 36, 'travel': 37, 'young-adult': 38}"
   ]
  },
  {
   "cell_type": "code",
   "execution_count": 16,
   "metadata": {},
   "outputs": [],
   "source": [
    "for i, genres in enumerate(books_dataframe[\"genres\"]):\n",
    "    genre_emb[i] = [float(0)] * 39"
   ]
  },
  {
   "cell_type": "code",
   "execution_count": null,
   "metadata": {},
   "outputs": [],
   "source": [
    "for i, genres in enumerate(books_dataframe[\"genres\"]):\n",
    "    l = len(genres)\n",
    "    for k, genre in enumerate(genres): \n",
    "        genre_emb[i][genre_map[genre]] = (l-k)*100/sum(range(l + 1))\n",
    "\n",
    "genre_list = [0] * len(genre_emb)\n",
    "for key, values in genre_emb.items():\n",
    "    genre_list[key]= values\n",
    "\n",
    "for i, list in enumerate(genre_list):\n",
    "    print(len(genre_list[i]))\n",
    "    print(genre_list[i])\n",
    "    "
   ]
  },
  {
   "cell_type": "code",
   "execution_count": null,
   "metadata": {},
   "outputs": [],
   "source": [
    "import matplotlib.pyplot as plt\n",
    "from sklearn.cluster import KMeans\n",
    "from sklearn.metrics import silhouette_score\n",
    "\n",
    "def find_optimal_clusters(data, max_clusters=10):\n",
    "    \"\"\"\n",
    "    Plots the 'elbow' method to visualize the optimal number of clusters for KMeans clustering. \n",
    "    \n",
    "    Args:\n",
    "        data: The input data to be clustered.\n",
    "        max_clusters: Maximum number of clusters to evaluate.\n",
    "    \n",
    "    Returns:\n",
    "        None\n",
    "    \"\"\"\n",
    "    \n",
    "    inertia = []\n",
    "    for i in range(1, max_clusters+1):\n",
    "        kmeans = KMeans(n_clusters=i, random_state=42)\n",
    "        kmeans.fit(data)\n",
    "        inertia.append(kmeans.inertia_)\n",
    "    \n",
    "    plt.plot(range(1, max_clusters+1), inertia, marker='o')\n",
    "    plt.title('Elbow Method for Optimal k')\n",
    "    plt.xlabel('Number of Clusters (k)')\n",
    "    plt.ylabel('Inertia')\n",
    "    plt.show()\n",
    "    \n",
    "# Example usage\n",
    "data =  genre_list\n",
    "find_optimal_clusters(data) "
   ]
  },
  {
   "cell_type": "code",
   "execution_count": null,
   "metadata": {},
   "outputs": [],
   "source": [
    "kmeans_genre = KMeans(n_clusters = 9, random_state = 2, n_init=\"auto\")\n",
    "kmeans_genre.fit(genre_list)"
   ]
  },
  {
   "cell_type": "code",
   "execution_count": 34,
   "metadata": {},
   "outputs": [],
   "source": [
    "cluster_map = {}\n",
    "for idx, clusteridx in enumerate(kmeans_genre.labels_):\n",
    "    if clusteridx in cluster_map:\n",
    "        cluster_map[clusteridx].append(idx)\n",
    "    else:\n",
    "        cluster_map[clusteridx] = [idx]"
   ]
  },
  {
   "cell_type": "code",
   "execution_count": 35,
   "metadata": {},
   "outputs": [],
   "source": [
    "new_bk_idx = 0"
   ]
  },
  {
   "cell_type": "code",
   "execution_count": null,
   "metadata": {},
   "outputs": [],
   "source": [
    "#predicting for new entry based on genre and filtered through description similarity\n",
    "newdesc = booksdf.iloc[new_bk_idx][\"description\"]\n",
    "newtitle = booksdf.iloc[new_bk_idx][\"title\"]\n",
    "newgenre = booksdf.iloc[new_bk_idx][\"genres\"]\n",
    "newgenre_emb = [float(0)] * 39\n",
    "print(newdesc, newtitle, newgenre)"
   ]
  },
  {
   "cell_type": "code",
   "execution_count": 37,
   "metadata": {},
   "outputs": [],
   "source": [
    "#getting the new genre embedding\n",
    "for k, genre in enumerate(newgenre): \n",
    "    newgenre_emb[genre_map[genre]] = (l-k)*100/sum(range(l + 1))"
   ]
  },
  {
   "cell_type": "code",
   "execution_count": null,
   "metadata": {},
   "outputs": [],
   "source": [
    "#getting what cluster it belongs to\n",
    "cluster = kmeans_genre.predict([newgenre_emb])[0]\n",
    "for i in cluster_map[cluster]:\n",
    "    print(books_dataframe.loc[i][\"title\"])\n",
    "    print(books_dataframe.loc[i][\"isbn13\"])"
   ]
  },
  {
   "cell_type": "code",
   "execution_count": 39,
   "metadata": {},
   "outputs": [],
   "source": [
    "#new entry embedding based on description\n",
    "newbook_emb = sbert_model.encode(newdesc)"
   ]
  },
  {
   "cell_type": "code",
   "execution_count": 40,
   "metadata": {},
   "outputs": [],
   "source": [
    "# Find cosine similarity\n",
    "similarity_score = [sim_score_(emb, newbook_emb) for emb in embeddings]\n",
    "\n",
    "#sort keeping index\n",
    "recsidx = np.array(similarity_score).argsort()[::-1][:100]\n"
   ]
  },
  {
   "cell_type": "code",
   "execution_count": null,
   "metadata": {},
   "outputs": [],
   "source": [
    "#filterng genre cluster info through book description cosine similary info\n",
    "i = 0\n",
    "for idx in recsidx:\n",
    "    if idx in cluster_map[cluster] and i <10:\n",
    "        i += 1\n",
    "        title = books_dataframe.loc[idx][\"title\"]\n",
    "        isbn13 = books_dataframe.loc[idx][\"isbn13\"]\n",
    "        print(title, similarity_score[idx], idx)\n",
    "\n",
    "\n"
   ]
  },
  {
   "cell_type": "code",
   "execution_count": null,
   "metadata": {},
   "outputs": [],
   "source": [
    "ratingsdf.head()"
   ]
  },
  {
   "cell_type": "code",
   "execution_count": null,
   "metadata": {},
   "outputs": [],
   "source": [
    "tbrdf.head()"
   ]
  }
 ],
 "metadata": {
  "kernelspec": {
   "display_name": ".venv",
   "language": "python",
   "name": "python3"
  },
  "language_info": {
   "codemirror_mode": {
    "name": "ipython",
    "version": 3
   },
   "file_extension": ".py",
   "mimetype": "text/x-python",
   "name": "python",
   "nbconvert_exporter": "python",
   "pygments_lexer": "ipython3",
   "version": "3.12.0"
  }
 },
 "nbformat": 4,
 "nbformat_minor": 2
}
