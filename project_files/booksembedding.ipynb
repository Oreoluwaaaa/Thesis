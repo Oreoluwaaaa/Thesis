{
 "cells": [
  {
   "cell_type": "code",
   "execution_count": null,
   "metadata": {},
   "outputs": [],
   "source": [
    "pip install pandas"
   ]
  },
  {
   "cell_type": "code",
   "execution_count": null,
   "metadata": {},
   "outputs": [],
   "source": [
    "pip install matplotlib"
   ]
  },
  {
   "cell_type": "code",
   "execution_count": null,
   "metadata": {},
   "outputs": [],
   "source": [
    "pip install scikit-learn"
   ]
  },
  {
   "cell_type": "code",
   "execution_count": null,
   "metadata": {},
   "outputs": [],
   "source": [
    "pip install -U sentence-transformers"
   ]
  },
  {
   "cell_type": "code",
   "execution_count": null,
   "metadata": {},
   "outputs": [],
   "source": [
    "import pandas as pd\n",
    "import matplotlib as mpl\n",
    "import matplotlib.pyplot as plt\n",
    "import numpy as np\n",
    "import array \n",
    "import sklearn\n",
    "from sklearn.cluster import KMeans\n",
    "from sklearn.metrics.pairwise import cosine_similarity\n",
    "from sentence_transformers import SentenceTransformer as sentran"
   ]
  },
  {
   "cell_type": "code",
   "execution_count": 6,
   "metadata": {},
   "outputs": [],
   "source": [
    "def isbn10_to_isbn13(isbn10):\n",
    "    if len(isbn10) < 10:\n",
    "        isbn10 = isbn10.zfill(10)  # Pad with leading zeros if necessary\n",
    "    \n",
    "    # Add prefix '978' to convert ISBN-10 to ISBN-13\n",
    "    isbn13_prefix = '978' + isbn10[:-1]\n",
    "    \n",
    "    # Calculate the check digit for ISBN-13\n",
    "    check_sum = sum((1 if i % 2 == 0 else 3) * int(digit) for i, digit in enumerate(isbn13_prefix))\n",
    "    check_digit = (10 - (check_sum % 10)) % 10\n",
    "    \n",
    "    return isbn13_prefix + str(check_digit)\n",
    "\n"
   ]
  },
  {
   "cell_type": "code",
   "execution_count": 7,
   "metadata": {},
   "outputs": [],
   "source": [
    "#function to clean up genre information in the data frame\n",
    "def genre_str_to_arr(genre):\n",
    "    genre = genre[2:-2].replace(\"\\'\", \"\")\n",
    "    genre = genre.split(\", \")\n",
    "\n",
    "    return genre"
   ]
  },
  {
   "cell_type": "code",
   "execution_count": 9,
   "metadata": {},
   "outputs": [],
   "source": [
    "#function to find cosine similarity\n",
    "def sim_score_(emb1, emb2):\n",
    "    return np.dot(emb1, emb2)/(np.linalg.norm(emb1)*np.linalg.norm(emb2))\n"
   ]
  },
  {
   "cell_type": "code",
   "execution_count": 10,
   "metadata": {
    "tags": []
   },
   "outputs": [],
   "source": [
    "#books data frame that will be worked with is booksdf\n",
    "books = \"/Users/oreoluwaala/Documents/Book Recommendation Project/rawdata/books.csv\" \n",
    "ratings = \"/Users/oreoluwaala/Documents/Book Recommendation Project/rawdata/ratings.csv\" \n",
    "tbr = \"/Users/oreoluwaala/Documents/Book Recommendation Project/rawdata/to_read.csv\" \n",
    "\n",
    "#fill empty isbn values with integer representation\n",
    "books_dataframe = pd.read_csv(books)\n",
    "books_dataframe['isbn'] = books_dataframe['isbn'].fillna('')\n",
    "\n",
    "#booksdf creation\n",
    "booksdf = books_dataframe.copy()\n",
    "booksdf = booksdf[[\"title\", \"authors\", \"average_rating\", \"book_id\",\"original_publication_year\", \"genres\", \"pages\", \"description\"]]\n",
    "\n",
    "#change year column to basic integer\n",
    "booksdf.loc[:, 'original_publication_year'] = booksdf['original_publication_year'].fillna(-1)\n",
    "booksdf.loc[:, 'original_publication_year'] = booksdf['original_publication_year'].astype(int)\n",
    "\n",
    "#change isbn10 to 13 with the function above\n",
    "\n",
    "booksdf.loc[:, 'isbn13'] = books_dataframe['isbn'].apply(isbn10_to_isbn13)\n",
    "\n",
    "#add isbn13 to the dataframe\n",
    "booksdf = booksdf[[\"title\", \"authors\", \"book_id\",\"isbn13\", \"average_rating\",\"original_publication_year\", \"genres\", \"pages\", \"description\", ]]\n",
    "\n",
    "#change genre to array in dataframe\n",
    "booksdf.loc[:, \"genres\"] = booksdf[\"genres\"].apply(genre_str_to_arr)\n",
    "\n",
    "#ratings dataframe\n",
    "ratingsdf = pd.read_csv(ratings)\n",
    "\n",
    "#to be read dataframe\n",
    "tbrdf = pd.read_csv(tbr)\n"
   ]
  },
  {
   "cell_type": "code",
   "execution_count": null,
   "metadata": {},
   "outputs": [],
   "source": [
    "#recommendation based on similar books via description\n",
    "#creating booksdataframe\n",
    "books_dataframe = booksdf.iloc[:1000]\n",
    "books_dataframe.head()"
   ]
  },
  {
   "cell_type": "code",
   "execution_count": 28,
   "metadata": {},
   "outputs": [],
   "source": [
    "#load model to generate sentence embeddings\n",
    "sbert_model = sentran('bert-base-nli-mean-tokens')"
   ]
  },
  {
   "cell_type": "code",
   "execution_count": 29,
   "metadata": {},
   "outputs": [],
   "source": [
    "#generate sentence embeddings and keep track of the embedding/book index to isbn ratio\n",
    "\n",
    "# convert descriptions to a list\n",
    "descriptions = books_dataframe[\"description\"].tolist()\n",
    "\n",
    "# define batch size\n",
    "batch_size = 32 \n",
    "\n",
    "# compute embeddings in batches\n",
    "embeddings = []\n",
    "for i in range(0, len(descriptions), batch_size):\n",
    "    batch = descriptions[i:i+batch_size]\n",
    "    batch_embeddings = sbert_model.encode(batch)\n",
    "    embeddings.append(batch_embeddings)\n",
    "\n",
    "# Concatenate all batches into a single array\n",
    "embeddings = np.vstack(embeddings)\n",
    "\n",
    "#print(embeddings)\n",
    "\n",
    "# embeddings = []\n",
    "# for idx, desc in enumerate(books_dataframe[\"description\"]):\n",
    "#     embeddings.append(sbert_model.encode(desc))"
   ]
  },
  {
   "cell_type": "code",
   "execution_count": 30,
   "metadata": {},
   "outputs": [],
   "source": [
    "#generate genre embedddings\n",
    "genre_emb = {}\n",
    "genre_map = {'art': 0, 'biography': 1, 'books': 2, 'business': 3, 'chick-lit': 4, 'christian': 5, 'classics': 6, 'comics': 7, 'contemporary': 8, 'cookbooks': 9, 'crime': 10, 'fantasy': 11, 'fiction': 12, 'gay-and-lesbian': 13, 'graphic-novels': 14, 'historical-fiction': 15, 'history': 16, 'horror': 17, 'humor-and-comedy': 18, 'manga': 19, 'memoir': 20, 'music': 21, 'mystery': 22, 'nonfiction': 23, 'paranormal': 24, 'philosophy': 25, 'poetry': 26, 'psychology': 27, 'religion': 28, 'romance': 29, 'science': 30, 'science-fiction': 31, 'self-help': 32, 'spirituality': 33, 'sports': 34, 'suspense': 35, 'thriller': 36, 'travel': 37, 'young-adult': 38}"
   ]
  },
  {
   "cell_type": "code",
   "execution_count": 31,
   "metadata": {},
   "outputs": [],
   "source": [
    "for i, genres in enumerate(books_dataframe[\"genres\"]):\n",
    "    genre_emb[i] = [float(0)] * 39"
   ]
  },
  {
   "cell_type": "code",
   "execution_count": null,
   "metadata": {},
   "outputs": [],
   "source": [
    "for i, genres in enumerate(books_dataframe[\"genres\"]):\n",
    "    l = len(genres)\n",
    "    for k, genre in enumerate(genres): \n",
    "        genre_emb[i][genre_map[genre]] = (l-k)*100/sum(range(l + 1))\n",
    "\n",
    "genre_list = [0] * len(genre_emb)\n",
    "for key, values in genre_emb.items():\n",
    "    genre_list[key]= values\n",
    "\n",
    "for i, list in enumerate(genre_list):\n",
    "    print(len(genre_list[i]))\n",
    "    print(genre_list[i])\n",
    "    "
   ]
  },
  {
   "cell_type": "code",
   "execution_count": null,
   "metadata": {},
   "outputs": [],
   "source": [
    "kmeans_genre = KMeans(n_clusters = 9, random_state = 2, n_init=\"auto\")\n",
    "kmeans_genre.fit(genre_list)"
   ]
  },
  {
   "cell_type": "code",
   "execution_count": 34,
   "metadata": {},
   "outputs": [],
   "source": [
    "cluster_map = {}\n",
    "for idx, clusteridx in enumerate(kmeans_genre.labels_):\n",
    "    if clusteridx in cluster_map:\n",
    "        cluster_map[clusteridx].append(idx)\n",
    "    else:\n",
    "        cluster_map[clusteridx] = [idx]"
   ]
  },
  {
   "cell_type": "code",
   "execution_count": 35,
   "metadata": {},
   "outputs": [],
   "source": [
    "new_bk_idx = 0"
   ]
  },
  {
   "cell_type": "code",
   "execution_count": null,
   "metadata": {},
   "outputs": [],
   "source": [
    "#predicting for new entry based on genre and filtered through description similarity\n",
    "newdesc = booksdf.iloc[new_bk_idx][\"description\"]\n",
    "newtitle = booksdf.iloc[new_bk_idx][\"title\"]\n",
    "newgenre = booksdf.iloc[new_bk_idx][\"genres\"]\n",
    "newgenre_emb = [float(0)] * 39\n",
    "print(newdesc, newtitle, newgenre)"
   ]
  },
  {
   "cell_type": "code",
   "execution_count": 37,
   "metadata": {},
   "outputs": [],
   "source": [
    "#getting the new genre embedding\n",
    "for k, genre in enumerate(newgenre): \n",
    "    newgenre_emb[genre_map[genre]] = (l-k)*100/sum(range(l + 1))"
   ]
  },
  {
   "cell_type": "code",
   "execution_count": null,
   "metadata": {},
   "outputs": [],
   "source": [
    "#getting what cluster it belongs to\n",
    "cluster = kmeans_genre.predict([newgenre_emb])[0]\n",
    "for i in cluster_map[cluster]:\n",
    "    print(books_dataframe.loc[i][\"title\"])\n",
    "    print(books_dataframe.loc[i][\"isbn13\"])"
   ]
  },
  {
   "cell_type": "code",
   "execution_count": 39,
   "metadata": {},
   "outputs": [],
   "source": [
    "#new entry embedding based on description\n",
    "newbook_emb = sbert_model.encode(newdesc)"
   ]
  },
  {
   "cell_type": "code",
   "execution_count": 40,
   "metadata": {},
   "outputs": [],
   "source": [
    "# Find cosine similarity\n",
    "similarity_score = [sim_score_(emb, newbook_emb) for emb in embeddings]\n",
    "\n",
    "#sort keeping index\n",
    "recsidx = np.array(similarity_score).argsort()[::-1][:100]\n"
   ]
  },
  {
   "cell_type": "code",
   "execution_count": null,
   "metadata": {},
   "outputs": [],
   "source": [
    "#filterng genre cluster info through book description cosine similary info\n",
    "i = 0\n",
    "for idx in recsidx:\n",
    "    if idx in cluster_map[cluster] and i <10:\n",
    "        i += 1\n",
    "        title = books_dataframe.loc[idx][\"title\"]\n",
    "        isbn13 = books_dataframe.loc[idx][\"isbn13\"]\n",
    "        print(title, similarity_score[idx], idx)\n",
    "\n",
    "\n"
   ]
  },
  {
   "cell_type": "code",
   "execution_count": null,
   "metadata": {},
   "outputs": [],
   "source": [
    "ratingsdf.head()"
   ]
  },
  {
   "cell_type": "code",
   "execution_count": null,
   "metadata": {},
   "outputs": [],
   "source": [
    "tbrdf.head()"
   ]
  }
 ],
 "metadata": {
  "kernelspec": {
   "display_name": ".venv",
   "language": "python",
   "name": "python3"
  },
  "language_info": {
   "codemirror_mode": {
    "name": "ipython",
    "version": 3
   },
   "file_extension": ".py",
   "mimetype": "text/x-python",
   "name": "python",
   "nbconvert_exporter": "python",
   "pygments_lexer": "ipython3",
   "version": "3.12.0"
  }
 },
 "nbformat": 4,
 "nbformat_minor": 2
}
