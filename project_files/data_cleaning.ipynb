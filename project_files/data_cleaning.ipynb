{
 "cells": [
  {
   "cell_type": "code",
   "execution_count": null,
   "metadata": {},
   "outputs": [],
   "source": [
    "pip install pandas"
   ]
  },
  {
   "cell_type": "code",
   "execution_count": 241,
   "metadata": {},
   "outputs": [],
   "source": [
    "import pandas as pd\n",
    "import matplotlib.pyplot as plt\n",
    "import numpy as np\n",
    "import matplotlib as mpl"
   ]
  },
  {
   "cell_type": "code",
   "execution_count": 242,
   "metadata": {},
   "outputs": [],
   "source": [
    "def isbn10_to_isbn13(isbn10):\n",
    "    if len(isbn10) < 10:\n",
    "        isbn10 = isbn10.zfill(10)  # Pad with leading zeros if necessary\n",
    "    \n",
    "    # Add prefix '978' to convert ISBN-10 to ISBN-13\n",
    "    isbn13_prefix = '978' + isbn10[:-1]\n",
    "    \n",
    "    # Calculate the check digit for ISBN-13\n",
    "    check_sum = sum((1 if i % 2 == 0 else 3) * int(digit) for i, digit in enumerate(isbn13_prefix))\n",
    "    check_digit = (10 - (check_sum % 10)) % 10\n",
    "    \n",
    "    return isbn13_prefix + str(check_digit)\n",
    "\n"
   ]
  },
  {
   "cell_type": "code",
   "execution_count": null,
   "metadata": {
    "tags": []
   },
   "outputs": [],
   "source": [
    "#books data frame that will be worked with is booksdf\n",
    "books = \"/Users/oreoluwaala/Documents/Book Recommendation Project/rawdata/books.csv\" \n",
    "ratings = \"/Users/oreoluwaala/Documents/Book Recommendation Project/rawdata/ratings.csv\" \n",
    "tbr = \"/Users/oreoluwaala/Documents/Book Recommendation Project/rawdata/to_read.csv\" \n",
    "\n",
    "#fill empty isbn values with integer representation\n",
    "books_dataframe = pd.read_csv(books)\n",
    "books_dataframe['isbn'] = books_dataframe['isbn'].fillna('')\n",
    "\n",
    "#booksdf creation\n",
    "booksdf = books_dataframe[[\"title\", \"authors\", \"average_rating\", \"book_id\",\"original_publication_year\", \"genres\", \"pages\"]]\n",
    "\n",
    "#change year column to basic integer\n",
    "booksdf['original_publication_year'] = booksdf['original_publication_year'].fillna(-1)\n",
    "booksdf[\"original_publication_year\"] = booksdf[\"original_publication_year\"].astype(int)\n",
    "\n",
    "#change isbn10 to 13 with the function above\n",
    "booksdf[\"isbn13\"] = books_dataframe[\"isbn\"].apply(isbn10_to_isbn13)\n",
    "\n",
    "#add isbn13 to the dataframe\n",
    "booksdf = booksdf[[\"title\", \"authors\", \"book_id\",\"isbn13\", \"average_rating\",\"original_publication_year\", \"genres\", \"pages\"]]\n",
    "\n",
    "#ratings dataframe\n",
    "ratingsdf = pd.read_csv(ratings)\n",
    "\n",
    "#to be read dataframe\n",
    "tbrdf = pd.read_csv(tbr)\n",
    "\n"
   ]
  },
  {
   "cell_type": "code",
   "execution_count": 244,
   "metadata": {},
   "outputs": [
    {
     "data": {
      "text/html": [
       "<div>\n",
       "<style scoped>\n",
       "    .dataframe tbody tr th:only-of-type {\n",
       "        vertical-align: middle;\n",
       "    }\n",
       "\n",
       "    .dataframe tbody tr th {\n",
       "        vertical-align: top;\n",
       "    }\n",
       "\n",
       "    .dataframe thead th {\n",
       "        text-align: right;\n",
       "    }\n",
       "</style>\n",
       "<table border=\"1\" class=\"dataframe\">\n",
       "  <thead>\n",
       "    <tr style=\"text-align: right;\">\n",
       "      <th></th>\n",
       "      <th>title</th>\n",
       "      <th>authors</th>\n",
       "      <th>book_id</th>\n",
       "      <th>isbn13</th>\n",
       "      <th>average_rating</th>\n",
       "      <th>original_publication_year</th>\n",
       "      <th>genres</th>\n",
       "      <th>pages</th>\n",
       "    </tr>\n",
       "  </thead>\n",
       "  <tbody>\n",
       "    <tr>\n",
       "      <th>0</th>\n",
       "      <td>The Hunger Games (The Hunger Games, #1)</td>\n",
       "      <td>['Suzanne Collins']</td>\n",
       "      <td>1</td>\n",
       "      <td>9780439023481</td>\n",
       "      <td>4.34</td>\n",
       "      <td>2008</td>\n",
       "      <td>['young-adult', 'fiction', 'fantasy', 'science...</td>\n",
       "      <td>374.0</td>\n",
       "    </tr>\n",
       "    <tr>\n",
       "      <th>1</th>\n",
       "      <td>Harry Potter and the Sorcerer's Stone (Harry P...</td>\n",
       "      <td>['J.K. Rowling', 'Mary GrandPré']</td>\n",
       "      <td>2</td>\n",
       "      <td>9780439554930</td>\n",
       "      <td>4.44</td>\n",
       "      <td>1997</td>\n",
       "      <td>['fantasy', 'fiction', 'young-adult', 'classics']</td>\n",
       "      <td>309.0</td>\n",
       "    </tr>\n",
       "    <tr>\n",
       "      <th>2</th>\n",
       "      <td>Twilight (Twilight, #1)</td>\n",
       "      <td>['Stephenie Meyer']</td>\n",
       "      <td>3</td>\n",
       "      <td>9780316015844</td>\n",
       "      <td>3.57</td>\n",
       "      <td>2005</td>\n",
       "      <td>['young-adult', 'fantasy', 'romance', 'fiction...</td>\n",
       "      <td>501.0</td>\n",
       "    </tr>\n",
       "    <tr>\n",
       "      <th>3</th>\n",
       "      <td>To Kill a Mockingbird</td>\n",
       "      <td>['Harper Lee']</td>\n",
       "      <td>4</td>\n",
       "      <td>9780061120084</td>\n",
       "      <td>4.25</td>\n",
       "      <td>1960</td>\n",
       "      <td>['classics', 'fiction', 'historical-fiction', ...</td>\n",
       "      <td>324.0</td>\n",
       "    </tr>\n",
       "    <tr>\n",
       "      <th>4</th>\n",
       "      <td>The Great Gatsby</td>\n",
       "      <td>['F. Scott Fitzgerald']</td>\n",
       "      <td>5</td>\n",
       "      <td>9780743273565</td>\n",
       "      <td>3.89</td>\n",
       "      <td>1925</td>\n",
       "      <td>['classics', 'fiction', 'historical-fiction', ...</td>\n",
       "      <td>200.0</td>\n",
       "    </tr>\n",
       "  </tbody>\n",
       "</table>\n",
       "</div>"
      ],
      "text/plain": [
       "                                               title  \\\n",
       "0            The Hunger Games (The Hunger Games, #1)   \n",
       "1  Harry Potter and the Sorcerer's Stone (Harry P...   \n",
       "2                            Twilight (Twilight, #1)   \n",
       "3                              To Kill a Mockingbird   \n",
       "4                                   The Great Gatsby   \n",
       "\n",
       "                             authors  book_id         isbn13  average_rating  \\\n",
       "0                ['Suzanne Collins']        1  9780439023481            4.34   \n",
       "1  ['J.K. Rowling', 'Mary GrandPré']        2  9780439554930            4.44   \n",
       "2                ['Stephenie Meyer']        3  9780316015844            3.57   \n",
       "3                     ['Harper Lee']        4  9780061120084            4.25   \n",
       "4            ['F. Scott Fitzgerald']        5  9780743273565            3.89   \n",
       "\n",
       "   original_publication_year  \\\n",
       "0                       2008   \n",
       "1                       1997   \n",
       "2                       2005   \n",
       "3                       1960   \n",
       "4                       1925   \n",
       "\n",
       "                                              genres  pages  \n",
       "0  ['young-adult', 'fiction', 'fantasy', 'science...  374.0  \n",
       "1  ['fantasy', 'fiction', 'young-adult', 'classics']  309.0  \n",
       "2  ['young-adult', 'fantasy', 'romance', 'fiction...  501.0  \n",
       "3  ['classics', 'fiction', 'historical-fiction', ...  324.0  \n",
       "4  ['classics', 'fiction', 'historical-fiction', ...  200.0  "
      ]
     },
     "execution_count": 244,
     "metadata": {},
     "output_type": "execute_result"
    }
   ],
   "source": [
    "booksdf.head()"
   ]
  },
  {
   "cell_type": "code",
   "execution_count": 245,
   "metadata": {},
   "outputs": [
    {
     "data": {
      "text/html": [
       "<div>\n",
       "<style scoped>\n",
       "    .dataframe tbody tr th:only-of-type {\n",
       "        vertical-align: middle;\n",
       "    }\n",
       "\n",
       "    .dataframe tbody tr th {\n",
       "        vertical-align: top;\n",
       "    }\n",
       "\n",
       "    .dataframe thead th {\n",
       "        text-align: right;\n",
       "    }\n",
       "</style>\n",
       "<table border=\"1\" class=\"dataframe\">\n",
       "  <thead>\n",
       "    <tr style=\"text-align: right;\">\n",
       "      <th></th>\n",
       "      <th>user_id</th>\n",
       "      <th>book_id</th>\n",
       "      <th>rating</th>\n",
       "    </tr>\n",
       "  </thead>\n",
       "  <tbody>\n",
       "    <tr>\n",
       "      <th>0</th>\n",
       "      <td>1</td>\n",
       "      <td>258</td>\n",
       "      <td>5</td>\n",
       "    </tr>\n",
       "    <tr>\n",
       "      <th>1</th>\n",
       "      <td>2</td>\n",
       "      <td>4081</td>\n",
       "      <td>4</td>\n",
       "    </tr>\n",
       "    <tr>\n",
       "      <th>2</th>\n",
       "      <td>2</td>\n",
       "      <td>260</td>\n",
       "      <td>5</td>\n",
       "    </tr>\n",
       "    <tr>\n",
       "      <th>3</th>\n",
       "      <td>2</td>\n",
       "      <td>9296</td>\n",
       "      <td>5</td>\n",
       "    </tr>\n",
       "    <tr>\n",
       "      <th>4</th>\n",
       "      <td>2</td>\n",
       "      <td>2318</td>\n",
       "      <td>3</td>\n",
       "    </tr>\n",
       "  </tbody>\n",
       "</table>\n",
       "</div>"
      ],
      "text/plain": [
       "   user_id  book_id  rating\n",
       "0        1      258       5\n",
       "1        2     4081       4\n",
       "2        2      260       5\n",
       "3        2     9296       5\n",
       "4        2     2318       3"
      ]
     },
     "execution_count": 245,
     "metadata": {},
     "output_type": "execute_result"
    }
   ],
   "source": [
    "ratingsdf.head()"
   ]
  },
  {
   "cell_type": "code",
   "execution_count": 246,
   "metadata": {},
   "outputs": [
    {
     "data": {
      "text/html": [
       "<div>\n",
       "<style scoped>\n",
       "    .dataframe tbody tr th:only-of-type {\n",
       "        vertical-align: middle;\n",
       "    }\n",
       "\n",
       "    .dataframe tbody tr th {\n",
       "        vertical-align: top;\n",
       "    }\n",
       "\n",
       "    .dataframe thead th {\n",
       "        text-align: right;\n",
       "    }\n",
       "</style>\n",
       "<table border=\"1\" class=\"dataframe\">\n",
       "  <thead>\n",
       "    <tr style=\"text-align: right;\">\n",
       "      <th></th>\n",
       "      <th>user_id</th>\n",
       "      <th>book_id</th>\n",
       "    </tr>\n",
       "  </thead>\n",
       "  <tbody>\n",
       "    <tr>\n",
       "      <th>0</th>\n",
       "      <td>9</td>\n",
       "      <td>8</td>\n",
       "    </tr>\n",
       "    <tr>\n",
       "      <th>1</th>\n",
       "      <td>15</td>\n",
       "      <td>398</td>\n",
       "    </tr>\n",
       "    <tr>\n",
       "      <th>2</th>\n",
       "      <td>15</td>\n",
       "      <td>275</td>\n",
       "    </tr>\n",
       "    <tr>\n",
       "      <th>3</th>\n",
       "      <td>37</td>\n",
       "      <td>7173</td>\n",
       "    </tr>\n",
       "    <tr>\n",
       "      <th>4</th>\n",
       "      <td>34</td>\n",
       "      <td>380</td>\n",
       "    </tr>\n",
       "  </tbody>\n",
       "</table>\n",
       "</div>"
      ],
      "text/plain": [
       "   user_id  book_id\n",
       "0        9        8\n",
       "1       15      398\n",
       "2       15      275\n",
       "3       37     7173\n",
       "4       34      380"
      ]
     },
     "execution_count": 246,
     "metadata": {},
     "output_type": "execute_result"
    }
   ],
   "source": [
    "tbrdf.head()"
   ]
  },
  {
   "cell_type": "code",
   "execution_count": 247,
   "metadata": {},
   "outputs": [
    {
     "data": {
      "image/png": "[encoded data removed]",
      "text/plain": [
       "<Figure size 640x480 with 1 Axes>"
      ]
     },
     "metadata": {},
     "output_type": "display_data"
    }
   ],
   "source": [
    "plt.plot(booksdf['isbn13'], booksdf['average_rating'], marker='o', linestyle='-')\n",
    "plt.title('ISBN Rating')\n",
    "plt.xlabel('average_rating')\n",
    "plt.ylabel('isbn13')\n",
    "plt.grid(True)\n",
    "plt.show()"
   ]
  }
 ],
 "metadata": {
  "kernelspec": {
   "display_name": ".venv",
   "language": "python",
   "name": "python3"
  },
  "language_info": {
   "codemirror_mode": {
    "name": "ipython",
    "version": 3
   },
   "file_extension": ".py",
   "mimetype": "text/x-python",
   "name": "python",
   "nbconvert_exporter": "python",
   "pygments_lexer": "ipython3",
   "version": "3.12.0"
  }
 },
 "nbformat": 4,
 "nbformat_minor": 2
}
